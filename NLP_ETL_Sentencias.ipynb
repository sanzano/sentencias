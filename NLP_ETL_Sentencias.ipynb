{
  "cells": [
    {
      "cell_type": "markdown",
      "metadata": {
        "id": "view-in-github",
        "colab_type": "text"
      },
      "source": [
        "<a href=\"https://colab.research.google.com/github/sanzano/sentencias/blob/main/NLP_ETL_Sentencias.ipynb\" target=\"_parent\"><img src=\"https://colab.research.google.com/assets/colab-badge.svg\" alt=\"Open In Colab\"/></a>"
      ]
    },
    {
      "cell_type": "code",
      "execution_count": null,
      "metadata": {
        "colab": {
          "background_save": true,
          "base_uri": "https://localhost:8080/"
        },
        "id": "GwqXJxx9ORBa",
        "outputId": "fefd677b-0419-4436-8fb0-8bea4f9379da"
      },
      "outputs": [
        {
          "name": "stdout",
          "output_type": "stream",
          "text": [
            "Collecting python-docx\n",
            "  Downloading python_docx-1.1.2-py3-none-any.whl (244 kB)\n",
            "\u001b[2K     \u001b[90m━━━━━━━━━━━━━━━━━━━━━━━━━━━━━━━━━━━━━━━━\u001b[0m \u001b[32m244.3/244.3 kB\u001b[0m \u001b[31m1.9 MB/s\u001b[0m eta \u001b[36m0:00:00\u001b[0m\n",
            "\u001b[?25hRequirement already satisfied: lxml>=3.1.0 in /usr/local/lib/python3.10/dist-packages (from python-docx) (4.9.4)\n",
            "Requirement already satisfied: typing-extensions>=4.9.0 in /usr/local/lib/python3.10/dist-packages (from python-docx) (4.11.0)\n",
            "Installing collected packages: python-docx\n",
            "Successfully installed python-docx-1.1.2\n",
            "Collecting PyPDF2\n",
            "  Downloading pypdf2-3.0.1-py3-none-any.whl (232 kB)\n",
            "\u001b[2K     \u001b[90m━━━━━━━━━━━━━━━━━━━━━━━━━━━━━━━━━━━━━━━━\u001b[0m \u001b[32m232.6/232.6 kB\u001b[0m \u001b[31m2.2 MB/s\u001b[0m eta \u001b[36m0:00:00\u001b[0m\n",
            "\u001b[?25hInstalling collected packages: PyPDF2\n",
            "Successfully installed PyPDF2-3.0.1\n"
          ]
        }
      ],
      "source": [
        "!pip install python-docx\n",
        "!pip install PyPDF2"
      ]
    },
    {
      "cell_type": "code",
      "execution_count": null,
      "metadata": {
        "colab": {
          "background_save": true,
          "base_uri": "https://localhost:8080/"
        },
        "id": "YAZHaK5g9tz2",
        "outputId": "cd0ebe79-08a1-4058-e19e-163010b8198c"
      },
      "outputs": [
        {
          "name": "stdout",
          "output_type": "stream",
          "text": [
            "Collecting pygsheets\n",
            "  Downloading pygsheets-2.0.6-py3-none-any.whl (158 kB)\n",
            "\u001b[2K     \u001b[90m━━━━━━━━━━━━━━━━━━━━━━━━━━━━━━━━━━━━━━━━\u001b[0m \u001b[32m158.2/158.2 kB\u001b[0m \u001b[31m1.6 MB/s\u001b[0m eta \u001b[36m0:00:00\u001b[0m\n",
            "\u001b[?25hRequirement already satisfied: google-api-python-client>=2.50.0 in /usr/local/lib/python3.10/dist-packages (from pygsheets) (2.84.0)\n",
            "Requirement already satisfied: google-auth-oauthlib>=0.7.1 in /usr/local/lib/python3.10/dist-packages (from pygsheets) (1.2.0)\n",
            "Requirement already satisfied: httplib2<1dev,>=0.15.0 in /usr/local/lib/python3.10/dist-packages (from google-api-python-client>=2.50.0->pygsheets) (0.22.0)\n",
            "Requirement already satisfied: google-auth<3.0.0dev,>=1.19.0 in /usr/local/lib/python3.10/dist-packages (from google-api-python-client>=2.50.0->pygsheets) (2.27.0)\n",
            "Requirement already satisfied: google-auth-httplib2>=0.1.0 in /usr/local/lib/python3.10/dist-packages (from google-api-python-client>=2.50.0->pygsheets) (0.1.1)\n",
            "Requirement already satisfied: google-api-core!=2.0.*,!=2.1.*,!=2.2.*,!=2.3.0,<3.0.0dev,>=1.31.5 in /usr/local/lib/python3.10/dist-packages (from google-api-python-client>=2.50.0->pygsheets) (2.11.1)\n",
            "Requirement already satisfied: uritemplate<5,>=3.0.1 in /usr/local/lib/python3.10/dist-packages (from google-api-python-client>=2.50.0->pygsheets) (4.1.1)\n",
            "Requirement already satisfied: requests-oauthlib>=0.7.0 in /usr/local/lib/python3.10/dist-packages (from google-auth-oauthlib>=0.7.1->pygsheets) (1.3.1)\n",
            "Requirement already satisfied: googleapis-common-protos<2.0.dev0,>=1.56.2 in /usr/local/lib/python3.10/dist-packages (from google-api-core!=2.0.*,!=2.1.*,!=2.2.*,!=2.3.0,<3.0.0dev,>=1.31.5->google-api-python-client>=2.50.0->pygsheets) (1.63.0)\n",
            "Requirement already satisfied: protobuf!=3.20.0,!=3.20.1,!=4.21.0,!=4.21.1,!=4.21.2,!=4.21.3,!=4.21.4,!=4.21.5,<5.0.0.dev0,>=3.19.5 in /usr/local/lib/python3.10/dist-packages (from google-api-core!=2.0.*,!=2.1.*,!=2.2.*,!=2.3.0,<3.0.0dev,>=1.31.5->google-api-python-client>=2.50.0->pygsheets) (3.20.3)\n",
            "Requirement already satisfied: requests<3.0.0.dev0,>=2.18.0 in /usr/local/lib/python3.10/dist-packages (from google-api-core!=2.0.*,!=2.1.*,!=2.2.*,!=2.3.0,<3.0.0dev,>=1.31.5->google-api-python-client>=2.50.0->pygsheets) (2.31.0)\n",
            "Requirement already satisfied: cachetools<6.0,>=2.0.0 in /usr/local/lib/python3.10/dist-packages (from google-auth<3.0.0dev,>=1.19.0->google-api-python-client>=2.50.0->pygsheets) (5.3.3)\n",
            "Requirement already satisfied: pyasn1-modules>=0.2.1 in /usr/local/lib/python3.10/dist-packages (from google-auth<3.0.0dev,>=1.19.0->google-api-python-client>=2.50.0->pygsheets) (0.4.0)\n",
            "Requirement already satisfied: rsa<5,>=3.1.4 in /usr/local/lib/python3.10/dist-packages (from google-auth<3.0.0dev,>=1.19.0->google-api-python-client>=2.50.0->pygsheets) (4.9)\n",
            "Requirement already satisfied: pyparsing!=3.0.0,!=3.0.1,!=3.0.2,!=3.0.3,<4,>=2.4.2 in /usr/local/lib/python3.10/dist-packages (from httplib2<1dev,>=0.15.0->google-api-python-client>=2.50.0->pygsheets) (3.1.2)\n",
            "Requirement already satisfied: oauthlib>=3.0.0 in /usr/local/lib/python3.10/dist-packages (from requests-oauthlib>=0.7.0->google-auth-oauthlib>=0.7.1->pygsheets) (3.2.2)\n",
            "Requirement already satisfied: pyasn1<0.7.0,>=0.4.6 in /usr/local/lib/python3.10/dist-packages (from pyasn1-modules>=0.2.1->google-auth<3.0.0dev,>=1.19.0->google-api-python-client>=2.50.0->pygsheets) (0.6.0)\n",
            "Requirement already satisfied: charset-normalizer<4,>=2 in /usr/local/lib/python3.10/dist-packages (from requests<3.0.0.dev0,>=2.18.0->google-api-core!=2.0.*,!=2.1.*,!=2.2.*,!=2.3.0,<3.0.0dev,>=1.31.5->google-api-python-client>=2.50.0->pygsheets) (3.3.2)\n",
            "Requirement already satisfied: idna<4,>=2.5 in /usr/local/lib/python3.10/dist-packages (from requests<3.0.0.dev0,>=2.18.0->google-api-core!=2.0.*,!=2.1.*,!=2.2.*,!=2.3.0,<3.0.0dev,>=1.31.5->google-api-python-client>=2.50.0->pygsheets) (3.7)\n",
            "Requirement already satisfied: urllib3<3,>=1.21.1 in /usr/local/lib/python3.10/dist-packages (from requests<3.0.0.dev0,>=2.18.0->google-api-core!=2.0.*,!=2.1.*,!=2.2.*,!=2.3.0,<3.0.0dev,>=1.31.5->google-api-python-client>=2.50.0->pygsheets) (2.0.7)\n",
            "Requirement already satisfied: certifi>=2017.4.17 in /usr/local/lib/python3.10/dist-packages (from requests<3.0.0.dev0,>=2.18.0->google-api-core!=2.0.*,!=2.1.*,!=2.2.*,!=2.3.0,<3.0.0dev,>=1.31.5->google-api-python-client>=2.50.0->pygsheets) (2024.2.2)\n",
            "Installing collected packages: pygsheets\n",
            "Successfully installed pygsheets-2.0.6\n"
          ]
        }
      ],
      "source": [
        "!pip install pygsheets"
      ]
    },
    {
      "cell_type": "code",
      "execution_count": null,
      "metadata": {
        "colab": {
          "background_save": true
        },
        "id": "E99ZmnA2NcTW"
      },
      "outputs": [],
      "source": [
        "import os\n",
        "from google.colab import drive\n",
        "from google.colab import files\n",
        "from google.colab import auth\n",
        "from oauth2client.service_account import ServiceAccountCredentials\n",
        "\n",
        "import gspread\n",
        "\n",
        "\n",
        "from PyPDF2 import PdfReader\n",
        "import PyPDF2\n",
        "import re\n",
        "import pandas as pd"
      ]
    },
    {
      "cell_type": "code",
      "execution_count": null,
      "metadata": {
        "id": "Xa-oUn9-NhHc"
      },
      "outputs": [],
      "source": [
        "drive.mount('/content/drive')"
      ]
    },
    {
      "cell_type": "code",
      "execution_count": null,
      "metadata": {
        "id": "6Hg8Tv2kNgJV"
      },
      "outputs": [],
      "source": [
        "extracted_path = '/content/drive/My Drive/INGENIERIA/0. Smtre 2024-2/NLP/PROYECTO/Sentencias/'"
      ]
    },
    {
      "cell_type": "markdown",
      "metadata": {
        "id": "-7u6h2v3CNyf"
      },
      "source": [
        "Se lee el excel con los datos de la página del TFJFA"
      ]
    },
    {
      "cell_type": "code",
      "execution_count": null,
      "metadata": {
        "id": "iGGueX3ROijA"
      },
      "outputs": [],
      "source": [
        "print(len(os.listdir(extracted_path)))"
      ]
    },
    {
      "cell_type": "markdown",
      "metadata": {
        "id": "nW-GanxIQwYQ"
      },
      "source": [
        "# Expresiones regulares\n"
      ]
    },
    {
      "cell_type": "code",
      "execution_count": null,
      "metadata": {
        "id": "bgu6PWG1O-Ov"
      },
      "outputs": [],
      "source": [
        "#Expresiones regulares\n",
        "cdmxpattern = re.compile(r'^.{0,15}(Ciudad de México)|(Distrito Federal).*?(\\.en los términos siguientes:.*|$)', re.DOTALL)\n",
        "\n",
        "expe_pattern = re.compile(r\"(expe)|(acción\\s+de\\s+inconstitucionalidad\\s+)\", re.IGNORECASE)\n",
        "\n",
        "actor_pattern = re.compile(r\"(ACTOR)|(solici)|(nunciante)|(recurrent)|(promovent)|(INCIDENTISTA)\", re.IGNORECASE)\n",
        "\n",
        "terc_pattern = re.compile(r\"(tercero?)|(interesad)\", re.IGNORECASE)\n",
        "\n",
        "\n",
        "\n",
        "#TEPJF_pattern = re.compile(r\".*?(?=\\d)\", re.IGNORECASE)\n",
        "#Tema_pattern = re.compile(r\"Tema\", re.IGNORECASE)\n",
        "#Tipo_asunto_pattern = re.compile(r\"Tipo de asun\", re.IGNORECASE)\n",
        "resp_pattern = re.compile(r\"(resp)|(nunciad)|(demandad)|(señalad)\", re.IGNORECASE)\n",
        "\n",
        "pnte_pattern = re.compile(r\"(magist)|(ponente)\", re.IGNORECASE)\n",
        "secr_pattern = re.compile(r\"secret\", re.IGNORECASE)\n",
        "\n",
        "patternResultando = re.compile(r'(^.*R\\s*E\\s*S\\s*U\\s*L\\s*T\\s*A\\s*N\\s*D\\s*O.*)')\n",
        "\n",
        "patternConsiderando = re.compile(r'(^.*C\\s*O\\s*N\\s*S\\s*I\\s*D\\s*E\\s*R\\s*A\\s*N\\s*D\\s*O.*)')\n",
        "\n",
        "patternResuelve = re.compile(r'(^.*A\\s*C\\s*U\\s*E\\s*R\\s*D.*$)|(^.*A\\s*C\\s*O\\s*R\\s*D.*)|(^.*R\\s*E\\s*S\\s*U\\s*E\\s*L\\s*V.*)|(.*R\\s*E\\s*S\\s*O\\s*L\\s*U\\s*T\\s*I\\s*V.*)|(.*A\\s*C\\s*U\\s*E\\s*R\\s*D\\s*A.*)')\n",
        "\n",
        "patternNotif = re.compile(r'(^\\s*N\\s*o\\s*t\\s*i\\s*f\\s*[ií]\\s*q\\s*u\\s*e\\s*s\\s*e.*?)|(^\\s*N\\s*o\\s*t\\s*i\\s*f\\s*i\\s*c\\s*a\\s*r.*?)(?=\\.|VISTO|$)', re.IGNORECASE)"
      ]
    },
    {
      "cell_type": "markdown",
      "metadata": {
        "id": "NvMqESdLOnP4"
      },
      "source": [
        "# Definición de Funciones"
      ]
    },
    {
      "cell_type": "code",
      "execution_count": null,
      "metadata": {
        "id": "mo93tLdiOqf8"
      },
      "outputs": [],
      "source": [
        "def extract_text_from_pdf(pdf_path):\n",
        "    text = \"\"\n",
        "    with open(pdf_path, \"rb\") as file:\n",
        "        reader = PdfReader(file)\n",
        "        num_pages = len(reader.pages)\n",
        "        for page_number in range(num_pages):\n",
        "            page = reader.pages[page_number]\n",
        "            page_text = page.extract_text()\n",
        "            # Replace consecutive newlines with a space\n",
        "            #page_text = re.sub(r'\\n{2,}', ' ', page_text)\n",
        "            text += page_text + \"\\n\"  # Add a newline after each page\n",
        "            content = [paragraph for paragraph in text]\n",
        "            result = ''.join(content)\n",
        "    return text\n",
        "\n",
        "def imprimirLista(lista):\n",
        "  for index,text in enumerate(lista):\n",
        "    print(\"Index:\", index, \"Text:\", text)"
      ]
    },
    {
      "cell_type": "code",
      "execution_count": null,
      "metadata": {
        "id": "YRlTxIGmOxrP"
      },
      "outputs": [],
      "source": [
        "# Dividir el texto para extraer secciones específicas utilizando regex\n",
        "def obtenerRubro(patternFin,parrafos):\n",
        "  matching_indexFin = next((index for index, string in enumerate(parrafos) if re.search(patternFin, string)), None)\n",
        "  if matching_indexFin is not None:\n",
        "     #print(f\"Index: {matching_indexFin}, Content: {parrafos[matching_indexFin]}\")\n",
        "     content = [paragraph for paragraph in parrafos[:matching_indexFin]]\n",
        "            # Join the cleaned content into a single string\n",
        "     #result_string = '\\n'.join(content)\n",
        "     return content\n",
        "  else:\n",
        "     return [0,0,0]\n",
        "\n",
        "def obtenerVotacion(patternIni,parrafos):\n",
        "  matching_indexIni = next((index for index, string in enumerate(parrafos) if re.search(patternIni, string)), None)\n",
        "  if matching_indexIni is not None:\n",
        "     content = [paragraph for paragraph in parrafos[matching_indexIni:]]\n",
        "     return content\n",
        "  else:\n",
        "     return [0,0,0]"
      ]
    },
    {
      "cell_type": "code",
      "execution_count": null,
      "metadata": {
        "id": "pH4xVUpCOvdM"
      },
      "outputs": [],
      "source": [
        "def convertirADicc(rubro):\n",
        "    diccionario = {}\n",
        "    current_key = None\n",
        "    for item in rubro:\n",
        "      if isinstance(item, str) and ':' in item:\n",
        "          parts = item.split(':')\n",
        "          current_key = parts[0].strip().replace(\" \",\"\")\n",
        "          value = parts[1].strip() if len(parts) > 1 else None\n",
        "          diccionario[current_key] = value\n",
        "      elif current_key is not None:\n",
        "          diccionario[current_key] += f' {item.strip()}'\n",
        "    return diccionario\n",
        "\n",
        "\n",
        "#Se usa para el rubro\n",
        "def obtenerDatosDiccionario(pattern, diccionario_rubro):\n",
        "    if diccionario_rubro is not None:\n",
        "        for key, value in diccionario_rubro.items():\n",
        "            if re.search(pattern, key):\n",
        "                return value\n",
        "    return \"Sin dato\""
      ]
    },
    {
      "cell_type": "code",
      "execution_count": null,
      "metadata": {
        "id": "UVYiVuDLO0ml"
      },
      "outputs": [],
      "source": [
        "def obtenerTramos(parrafos,patternIni,patternFin):\n",
        "    matching_indexIni = next((index for index, string in enumerate(reversed(parrafos), start=1) if re.search(patternIni, string)), None)\n",
        "    if matching_indexIni is not None:\n",
        "            matching_indexIni = len(parrafos) - matching_indexIni\n",
        "            #matching_indexFin = next((index for index, string in enumerate(parrafos) if re.search(patternFin, string)), None)\n",
        "            matching_indexFin = next((index for index, string in enumerate(parrafos[matching_indexIni:], start=matching_indexIni) if re.search(patternFin, string)), None)\n",
        "            if matching_indexFin is not None:\n",
        "                content = [paragraph for paragraph in parrafos[matching_indexIni:matching_indexFin]]\n",
        "                # Join the cleaned content into a single string\n",
        "                result_string = '\\n'.join(content)\n",
        "                return result_string, matching_indexIni, matching_indexFin\n",
        "            else:\n",
        "                return '',0,0\n",
        "    else:\n",
        "        return '',0,0\n",
        "\n",
        "def obtenerDato(parrafos,index,palabra_clave):\n",
        "    for i in range(index, len(parrafos)):\n",
        "      if palabra_clave in parrafos[i].lower():  # Using lower() for case-insensitive search\n",
        "          parrafo_voto = parrafos[i].strip()\n",
        "          return parrafo_voto\n",
        "    return ''\n",
        "\n",
        "def obtenerDatoRegex(regex,tramos):\n",
        "    matching_indexFin = next((index for index, string in enumerate(tramos) if re.search(regex, string)), None)\n",
        "    if matching_indexFin is not None:\n",
        "      #print(f\"Index: {matching_indexFin}, Content: {parrafos[matching_indexFin]}\")\n",
        "      content = tramos[matching_indexFin]\n",
        "              # Join the cleaned content into a single string\n",
        "      #result_string = '\\n'.join(content)\n",
        "      return content\n",
        "    else:\n",
        "      return \"No disponible para esta demo\"\n",
        "    #return next((sentence for sentence in tramos if re.search(regex, sentence)), None)"
      ]
    },
    {
      "cell_type": "code",
      "execution_count": null,
      "metadata": {
        "id": "iQwMTXIfO2VP"
      },
      "outputs": [],
      "source": [
        "def obtenerFecha (encabezado_limpio):\n",
        "    #Extrae la fecha utilizando regex\n",
        "    #encabezado_limpio = encabezado_limpio.replace('\\n', ' ')\n",
        "    fecha = \"\"\n",
        "    if ',' in encabezado_limpio or ';' in encabezado_limpio:\n",
        "      partes = re.split(r',|;',encabezado_limpio)\n",
        "      for element in partes:\n",
        "          #print(element)\n",
        "          if \"mil\" in element.lower() and not 'iudad' in element:\n",
        "              fecha = element\n",
        "              #print(\"Tiene mil\")\n",
        "              return fecha\n",
        "      for element in partes:\n",
        "          if re.search(r'\\d', element):\n",
        "              fecha = element\n",
        "              #print(\"Tiene numero\")\n",
        "              return fecha\n",
        "    return encabezado_limpio"
      ]
    },
    {
      "cell_type": "code",
      "execution_count": null,
      "metadata": {
        "id": "scy9eBzFO3v9"
      },
      "outputs": [],
      "source": [
        "def obtenerVotos(parrafos,index):\n",
        "    for i in range(index, len(parrafos)):\n",
        "      if \"voto\" in parrafos[i].lower() or \"unanimidad\" in parrafos[i].lower() or \"mayoría\" in parrafos[i].lower():  # Using lower() for case-insensitive search\n",
        "          parrafo_voto = parrafos[i].strip()\n",
        "          return parrafo_voto\n",
        "    return ''\n",
        "\n",
        "def sentidoVoto(parrafo_voto):\n",
        "    pattern_u = re.compile(r'.*u\\s*n\\s*a\\s*n\\s*i\\s*m\\s*i\\s*d\\s*a\\s*d', re.IGNORECASE)\n",
        "    pattern_m = re.compile(r'.*m\\s*a\\s*y\\s*o\\s*r\\s*í\\s*a', re.IGNORECASE)\n",
        "    if pattern_u.search(parrafo_voto.lower()):\n",
        "        return 'U'\n",
        "    elif pattern_m.search(parrafo_voto.lower()):\n",
        "        return 'M'\n",
        "    else:\n",
        "        return ''\n"
      ]
    },
    {
      "cell_type": "code",
      "execution_count": null,
      "metadata": {
        "id": "4FgsiySE5Hwz"
      },
      "outputs": [],
      "source": [
        "def limpiar_parrafos(raw_text):\n",
        "    texto_sinesp = re.sub(r'\\n', ' ', raw_text)\n",
        "    texto_limpio = re.sub(r'\\s{3,}', '\\n', texto_sinesp)\n",
        "    return texto_limpio"
      ]
    },
    {
      "cell_type": "markdown",
      "metadata": {
        "id": "_jpfb_WAe14K"
      },
      "source": [
        "# Pipeline"
      ]
    },
    {
      "cell_type": "code",
      "execution_count": null,
      "metadata": {
        "id": "0s4-uW5PO7GF"
      },
      "outputs": [],
      "source": [
        "def obtenerTodo(full_path):\n",
        "    forma_voto = asunto = expe = preambulo = actor = resp = tercero = ponente = resolutivos = parrafo_voto = resultando = considerando =  ''\n",
        "    extracted_text = extract_text_from_pdf(full_path)\n",
        "    #texto_sinesp = re.sub(r'\\n', ' ', extracted_text)\n",
        "    #texto_limpio = re.sub(r'\\s{3,}', '\\n', texto_sinesp)\n",
        "    parrafos = extracted_text.split('\\n')\n",
        "    #imprimirLista(parrafos)\n",
        "    rubro=obtenerRubro(cdmxpattern,parrafos)\n",
        "    if rubro == [0, 0, 0]:\n",
        "        forma_voto = asunto = expe = fecha = actor = resp = tercero = ponente = resolutivos = parrafo_voto = resultando = considerando = ''\n",
        "        return forma_voto, asunto, expe, fecha, actor, resp, tercero, ponente, resolutivos, parrafo_voto, resultando, considerando\n",
        "    else:\n",
        "         diccionario = convertirADicc(rubro)\n",
        "         expe = obtenerDatosDiccionario(expe_pattern,diccionario)\n",
        "         actor = obtenerDatosDiccionario(actor_pattern, diccionario)\n",
        "#         resp = obtenerDatosDiccionario(resp_pattern, diccionario)\n",
        "#         ponente = obtenerDatosDiccionario(pnte_pattern, diccionario)\n",
        "#         #secretario = obtenerDatosDiccionario(secr_pattern, diccionario)\n",
        "         tercero = obtenerDatosDiccionario(terc_pattern, diccionario)\n",
        "         encabezado = obtenerDatoRegex(cdmxpattern,parrafos)\n",
        "         fecha = obtenerFecha(encabezado)\n",
        "#         match = TEPJF_pattern.match(expe)\n",
        "#         if match:\n",
        "#             asunto = match.group()  # Content of the second capturing group: 15\n",
        "#         else:\n",
        "#             asunto = ''\n",
        "#         #Obtiene resolutivos\n",
        "    resolutivos,ini,fin = obtenerTramos(parrafos,patternResuelve,patternNotif)\n",
        "    resolutivos = limpiar_parrafos(resolutivos)\n",
        "    if fin == 0:\n",
        "        parrafo_voto = ''\n",
        "        forma_voto = ''\n",
        "    else:\n",
        "        parrafo_voto = obtenerVotos(parrafos,fin)\n",
        "        forma_voto = sentidoVoto(parrafo_voto)\n",
        "    resultando, x, y = obtenerTramos(parrafos,patternResultando,patternConsiderando)\n",
        "    resultando = limpiar_parrafos(resultando)\n",
        "    considerando, x, y = obtenerTramos(parrafos,patternConsiderando,patternResuelve)\n",
        "    considerando = limpiar_parrafos(considerando)\n",
        "#  #       if 'Pleno' in\n",
        "\n",
        "    return forma_voto,asunto,expe,fecha,actor,resp,tercero,ponente,resolutivos,parrafo_voto, resultando, considerando\n",
        "\n",
        "filename = '399-22-EPI-01-2.pdf'\n",
        "full_path = os.path.join(extracted_path, filename)\n",
        "forma_voto,asunto,expe,fecha,actor,resp,tercero,ponente,resolutivos,parrafo_voto, resultando, considerando = obtenerTodo(full_path)\n",
        "print(f\"Expediente: {expe}\")\n",
        "print(f\"Actor: {actor}\")\n",
        "#print(f\"Responsable: {resp}\")\n",
        "#print(f\"Ponente: {ponente}\")\n",
        "#print(f\"Secretario: {secretario}\")\n",
        "print(f\"Tercero: {tercero}\")\n",
        "print(f\"Fecha: {fecha}\") #párrafo fecha\n",
        "#print(f\"Asunto: {asunto}\")\n",
        "#print(f\"Resultando: {resultando}\")\n",
        "print(f\"Considerando: {considerando}\")\n",
        "print(f\"Resolutivos: {resolutivos}\")\n",
        "#print(f\"Parrafo voto: {parrafo_voto}\")\n"
      ]
    },
    {
      "cell_type": "code",
      "execution_count": null,
      "metadata": {
        "id": "U-cSRYcvPFWW"
      },
      "outputs": [],
      "source": [
        "#TODO\n",
        "\n",
        "data = []\n",
        "\n",
        "for filename in os.listdir(extracted_path):\n",
        "    full_path = os.path.join(extracted_path, filename)\n",
        "    sentences = \"\"\n",
        "    # Check if the current item is a file\n",
        "    if os.path.isfile(full_path):\n",
        "        print(filename)\n",
        "        forma_voto,asunto,expe,fecha,actor,resp,tercero,ponente,resolutivos,parrafo_voto, resultando, considerando = obtenerTodo(full_path)\n",
        "        sentencias = [filename,expe,actor,tercero,fecha,resultando, considerando,resolutivos]\n",
        "        #sentencias = [filename,organo,forma_voto,instancia,asunto,expe,fecha,actor,resp,tercero,ponente,resolutivos,parrafo_voto]\n",
        "        data.append(sentencias)"
      ]
    },
    {
      "cell_type": "code",
      "execution_count": null,
      "metadata": {
        "id": "wAbOloNNswzv"
      },
      "outputs": [],
      "source": [
        "# Define column names\n",
        "columns = ['Filename','Expediente','Actor','Tercero','Párrafo Fecha','Resultandos','Considerandos','Puntos Resolutivos']\n",
        "\n",
        "# Create a Pandas DataFrame\n",
        "df = pd.DataFrame(data, columns=columns)\n",
        "# Muestra el dataframe\n",
        "df.head()"
      ]
    },
    {
      "cell_type": "markdown",
      "metadata": {
        "id": "I4i8JoRwujkj"
      },
      "source": [
        "# Resultados"
      ]
    },
    {
      "cell_type": "code",
      "execution_count": null,
      "metadata": {
        "id": "Y5pqlylvusfO"
      },
      "outputs": [],
      "source": [
        "#Revisa si hay resolutivos vacíos filename,expe,actor,tercero,preambulo,resultando, considerando,resolutivos\n",
        "vac_expediente = (df['Expediente'] == '').sum()\n",
        "vac_actor = (df['Actor'] == '').sum()\n",
        "vac_tercero = (df['Tercero'] == '').sum()\n",
        "vac_pfecha = (df['Párrafo Fecha'] == '').sum()\n",
        "vac_resultandos = (df['Resultandos'] == '').sum()\n",
        "vac_considerandos = (df['Considerandos'] == '').sum()\n",
        "vac_resolutivos = (df['Puntos Resolutivos'] == '').sum()\n",
        "vacios = [vac_expediente,vac_actor,vac_tercero,vac_pfecha,vac_resultandos,vac_considerandos,vac_resolutivos]\n",
        "print(vacios)\n",
        "#columns = ['Filename','Expediente','Actor','Tercero','Párrafo Fecha','Resultandos','Considerandos','Puntos Resolutivos']"
      ]
    },
    {
      "cell_type": "code",
      "execution_count": null,
      "metadata": {
        "id": "wtQ8RaEAw15r"
      },
      "outputs": [],
      "source": [
        "filtered_df = df[df['Considerandos'] == '']\n",
        "filtered_df.head(20)"
      ]
    },
    {
      "cell_type": "markdown",
      "metadata": {
        "id": "FFh8z1F_CtTd"
      },
      "source": [
        "# Concatenación de los documentos"
      ]
    },
    {
      "cell_type": "code",
      "execution_count": null,
      "metadata": {
        "id": "6oUTMI-8Bnt7"
      },
      "outputs": [],
      "source": [
        "uploaded = files.upload()"
      ]
    },
    {
      "cell_type": "code",
      "execution_count": null,
      "metadata": {
        "id": "PpcreBa9B6S4"
      },
      "outputs": [],
      "source": [
        "df_col = pd.read_excel(\"Columnas (1).xlsx\")"
      ]
    },
    {
      "cell_type": "code",
      "execution_count": null,
      "metadata": {
        "id": "WChi6fl1DEz1"
      },
      "outputs": [],
      "source": [
        "df_col.head()"
      ]
    },
    {
      "cell_type": "code",
      "execution_count": null,
      "metadata": {
        "id": "lwKd46-ADSHH"
      },
      "outputs": [],
      "source": [
        "merged_df = pd.merge(df, df_col, left_on='Filename', right_on='Título', how='inner')  # You can change 'how' parameter as needed\n",
        "\n",
        "merged_df.head()"
      ]
    },
    {
      "cell_type": "code",
      "execution_count": null,
      "metadata": {
        "id": "nYUORvWjJIMO"
      },
      "outputs": [],
      "source": [
        "merged_df.shape"
      ]
    },
    {
      "cell_type": "code",
      "execution_count": null,
      "metadata": {
        "id": "LjBKwI9tQx96"
      },
      "outputs": [],
      "source": [
        "merged_df.nunique()"
      ]
    },
    {
      "cell_type": "code",
      "execution_count": null,
      "metadata": {
        "id": "B5nq8TYrSVar"
      },
      "outputs": [],
      "source": [
        "import seaborn as sns\n",
        "import matplotlib.pyplot as plt\n",
        "\n",
        "# Set the figure size\n",
        "plt.figure(figsize=(12, 6))\n",
        "\n",
        "# Create the count plot\n",
        "sns.countplot(x='Sentido de la Sentencia', hue='Materia', data=merged_df)\n",
        "\n",
        "# Rotate x-axis labels for better readability (optional)\n",
        "plt.xticks(rotation=45, ha='right')\n",
        "\n",
        "# Set the title and labels\n",
        "plt.title('Distribución de Materia por Sentido de la Sentencia')\n",
        "plt.xlabel('Sentido de la Sentencia')\n",
        "plt.ylabel('Count')\n",
        "\n",
        "# Show the plot\n",
        "plt.legend(title='Materia')  # Add legend with column name\n",
        "plt.tight_layout()  # Adjust layout to prevent clipping of labels\n",
        "plt.show()"
      ]
    },
    {
      "cell_type": "code",
      "execution_count": null,
      "metadata": {
        "id": "AMLN5UCiU4QZ"
      },
      "outputs": [],
      "source": [
        "# Calculate value counts of 'Materia' column\n",
        "materia_counts = merged_df['Materia'].value_counts()\n",
        "\n",
        "# Calculate total number of rows in DataFrame\n",
        "total_rows = len(merged_df)\n",
        "\n",
        "# Calculate percentage of each 'Materia' type\n",
        "materia_percentage = (materia_counts / total_rows) * 100\n",
        "\n",
        "# Create a pie chart\n",
        "plt.figure(figsize=(10, 8))\n",
        "plt.pie(materia_percentage, labels=materia_percentage.index, autopct='%1.1f%%', startangle=140)\n",
        "plt.title('Porcentaje por Materia')\n",
        "plt.axis('equal')  # Equal aspect ratio ensures that pie is drawn as a circle\n",
        "plt.show()"
      ]
    },
    {
      "cell_type": "code",
      "execution_count": null,
      "metadata": {
        "id": "c3lP7ga9VIZK"
      },
      "outputs": [],
      "source": [
        "# Calculate value counts of 'Materia' column\n",
        "materia_counts = merged_df['Sentido de la Sentencia'].value_counts()\n",
        "\n",
        "# Calculate total number of rows in DataFrame\n",
        "total_rows = len(merged_df)\n",
        "\n",
        "# Calculate percentage of each 'Materia' type\n",
        "materia_percentage = (materia_counts / total_rows) * 100\n",
        "\n",
        "# Create a pie chart\n",
        "plt.figure(figsize=(10, 8))\n",
        "plt.pie(materia_percentage, labels=materia_percentage.index, autopct='%1.1f%%', startangle=140)\n",
        "plt.title('Porcentaje por Sentido de la Sentencia')\n",
        "plt.axis('equal')  # Equal aspect ratio ensures that pie is drawn as a circle\n",
        "plt.show()"
      ]
    },
    {
      "cell_type": "code",
      "execution_count": null,
      "metadata": {
        "id": "yTEznpTK0Qy8"
      },
      "outputs": [],
      "source": [
        "merged_df.to_excel('sentencias_sepi.xlsx',index=False)\n",
        "files.download('sentencias_sepi.xlsx')"
      ]
    },
    {
      "cell_type": "code",
      "execution_count": null,
      "metadata": {
        "id": "a5dmSemuEQms"
      },
      "outputs": [],
      "source": [
        "merged_df.to_json('merged_data.json', orient='records')\n",
        "files.download('merged_data.json')"
      ]
    }
  ],
  "metadata": {
    "colab": {
      "provenance": [],
      "authorship_tag": "ABX9TyN/BY/ZsyRCr0fWTQR+YFtK",
      "include_colab_link": true
    },
    "kernelspec": {
      "display_name": "Python 3",
      "name": "python3"
    },
    "language_info": {
      "name": "python"
    }
  },
  "nbformat": 4,
  "nbformat_minor": 0
}